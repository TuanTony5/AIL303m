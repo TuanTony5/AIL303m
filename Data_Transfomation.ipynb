{
 "cells": [
  {
   "cell_type": "code",
   "execution_count": 32,
   "metadata": {},
   "outputs": [],
   "source": [
    "import pandas as pd\n",
    "import numpy as np\n",
    "from numpy import log\n",
    "from scipy.stats import boxcox\n",
    "import seaborn as sns\n",
    "import math\n",
    "from sklearn.preprocessing import *\n",
    "from sklearn.feature_extraction import *\n",
    "import matplotlib.pyplot as plt"
   ]
  },
  {
   "cell_type": "code",
   "execution_count": 3,
   "metadata": {},
   "outputs": [],
   "source": [
    "df = pd.read_csv('Iris.csv')\n",
    "data = df['PetalLengthCm']"
   ]
  },
  {
   "cell_type": "code",
   "execution_count": 4,
   "metadata": {},
   "outputs": [
    {
     "data": {
      "text/plain": [
       "<Axes: xlabel='PetalLengthCm', ylabel='Count'>"
      ]
     },
     "execution_count": 4,
     "metadata": {},
     "output_type": "execute_result"
    },
    {
     "data": {
      "image/png": "[encoded data removed]",
      "text/plain": [
       "<Figure size 640x480 with 1 Axes>"
      ]
     },
     "metadata": {},
     "output_type": "display_data"
    }
   ],
   "source": [
    "# Log Feature\n",
    "logdata = [math.log(value) for value in data]\n",
    "sns.histplot(data)\n",
    "sns.histplot(logdata)"
   ]
  },
  {
   "cell_type": "code",
   "execution_count": 5,
   "metadata": {},
   "outputs": [
    {
     "data": {
      "text/html": [
       "<div>\n",
       "<style scoped>\n",
       "    .dataframe tbody tr th:only-of-type {\n",
       "        vertical-align: middle;\n",
       "    }\n",
       "\n",
       "    .dataframe tbody tr th {\n",
       "        vertical-align: top;\n",
       "    }\n",
       "\n",
       "    .dataframe thead th {\n",
       "        text-align: right;\n",
       "    }\n",
       "</style>\n",
       "<table border=\"1\" class=\"dataframe\">\n",
       "  <thead>\n",
       "    <tr style=\"text-align: right;\">\n",
       "      <th></th>\n",
       "      <th>SepalLengthCm</th>\n",
       "      <th>SepalWidthCm</th>\n",
       "    </tr>\n",
       "  </thead>\n",
       "  <tbody>\n",
       "    <tr>\n",
       "      <th>0</th>\n",
       "      <td>5.1</td>\n",
       "      <td>3.5</td>\n",
       "    </tr>\n",
       "    <tr>\n",
       "      <th>1</th>\n",
       "      <td>4.9</td>\n",
       "      <td>3.0</td>\n",
       "    </tr>\n",
       "    <tr>\n",
       "      <th>2</th>\n",
       "      <td>4.7</td>\n",
       "      <td>3.2</td>\n",
       "    </tr>\n",
       "    <tr>\n",
       "      <th>3</th>\n",
       "      <td>4.6</td>\n",
       "      <td>3.1</td>\n",
       "    </tr>\n",
       "    <tr>\n",
       "      <th>4</th>\n",
       "      <td>5.0</td>\n",
       "      <td>3.6</td>\n",
       "    </tr>\n",
       "  </tbody>\n",
       "</table>\n",
       "</div>"
      ],
      "text/plain": [
       "   SepalLengthCm  SepalWidthCm\n",
       "0            5.1           3.5\n",
       "1            4.9           3.0\n",
       "2            4.7           3.2\n",
       "3            4.6           3.1\n",
       "4            5.0           3.6"
      ]
     },
     "execution_count": 5,
     "metadata": {},
     "output_type": "execute_result"
    }
   ],
   "source": [
    "data = df.iloc[:,1:3]\n",
    "data.head()"
   ]
  },
  {
   "cell_type": "code",
   "execution_count": 17,
   "metadata": {},
   "outputs": [
    {
     "data": {
      "text/html": [
       "<div>\n",
       "<style scoped>\n",
       "    .dataframe tbody tr th:only-of-type {\n",
       "        vertical-align: middle;\n",
       "    }\n",
       "\n",
       "    .dataframe tbody tr th {\n",
       "        vertical-align: top;\n",
       "    }\n",
       "\n",
       "    .dataframe thead th {\n",
       "        text-align: right;\n",
       "    }\n",
       "</style>\n",
       "<table border=\"1\" class=\"dataframe\">\n",
       "  <thead>\n",
       "    <tr style=\"text-align: right;\">\n",
       "      <th></th>\n",
       "      <th>0</th>\n",
       "      <th>1</th>\n",
       "      <th>2</th>\n",
       "      <th>3</th>\n",
       "      <th>4</th>\n",
       "      <th>5</th>\n",
       "    </tr>\n",
       "  </thead>\n",
       "  <tbody>\n",
       "    <tr>\n",
       "      <th>0</th>\n",
       "      <td>1.0</td>\n",
       "      <td>5.1</td>\n",
       "      <td>3.5</td>\n",
       "      <td>26.01</td>\n",
       "      <td>17.85</td>\n",
       "      <td>12.25</td>\n",
       "    </tr>\n",
       "    <tr>\n",
       "      <th>1</th>\n",
       "      <td>1.0</td>\n",
       "      <td>4.9</td>\n",
       "      <td>3.0</td>\n",
       "      <td>24.01</td>\n",
       "      <td>14.70</td>\n",
       "      <td>9.00</td>\n",
       "    </tr>\n",
       "    <tr>\n",
       "      <th>2</th>\n",
       "      <td>1.0</td>\n",
       "      <td>4.7</td>\n",
       "      <td>3.2</td>\n",
       "      <td>22.09</td>\n",
       "      <td>15.04</td>\n",
       "      <td>10.24</td>\n",
       "    </tr>\n",
       "    <tr>\n",
       "      <th>3</th>\n",
       "      <td>1.0</td>\n",
       "      <td>4.6</td>\n",
       "      <td>3.1</td>\n",
       "      <td>21.16</td>\n",
       "      <td>14.26</td>\n",
       "      <td>9.61</td>\n",
       "    </tr>\n",
       "    <tr>\n",
       "      <th>4</th>\n",
       "      <td>1.0</td>\n",
       "      <td>5.0</td>\n",
       "      <td>3.6</td>\n",
       "      <td>25.00</td>\n",
       "      <td>18.00</td>\n",
       "      <td>12.96</td>\n",
       "    </tr>\n",
       "  </tbody>\n",
       "</table>\n",
       "</div>"
      ],
      "text/plain": [
       "     0    1    2      3      4      5\n",
       "0  1.0  5.1  3.5  26.01  17.85  12.25\n",
       "1  1.0  4.9  3.0  24.01  14.70   9.00\n",
       "2  1.0  4.7  3.2  22.09  15.04  10.24\n",
       "3  1.0  4.6  3.1  21.16  14.26   9.61\n",
       "4  1.0  5.0  3.6  25.00  18.00  12.96"
      ]
     },
     "execution_count": 17,
     "metadata": {},
     "output_type": "execute_result"
    }
   ],
   "source": [
    "# Polynomial features\n",
    "poly_Feat = PolynomialFeatures(degree=2)\n",
    "\n",
    "# Create Polynomial features and transform it\n",
    "poly_Feat = poly_Feat.fit(data)\n",
    "X_poly = poly_Feat.transform(data)\n",
    "X_poly = pd.DataFrame(X_poly)\n",
    "X_poly.head()"
   ]
  },
  {
   "cell_type": "code",
   "execution_count": 31,
   "metadata": {},
   "outputs": [
    {
     "name": "stdout",
     "output_type": "stream",
     "text": [
      "[[0.33333333 0.86585366]\n",
      " [0.         0.57317073]\n",
      " [0.05882353 0.64634146]\n",
      " [0.21568627 0.73170732]\n",
      " [0.25490196 0.        ]\n",
      " [0.15686275 0.69512195]\n",
      " [1.         0.62195122]\n",
      " [0.41176471 0.95121951]\n",
      " [0.45098039 1.        ]\n",
      " [0.19607843 0.80487805]]\n",
      "[[ 0.43478261  0.68493151]\n",
      " [-1.04347826 -0.63013699]\n",
      " [-0.7826087  -0.30136986]\n",
      " [-0.08695652  0.08219178]\n",
      " [ 0.08695652 -3.20547945]\n",
      " [-0.34782609 -0.08219178]\n",
      " [ 3.39130435 -0.4109589 ]\n",
      " [ 0.7826087   1.06849315]\n",
      " [ 0.95652174  1.28767123]\n",
      " [-0.17391304  0.4109589 ]]\n"
     ]
    }
   ],
   "source": [
    "data = {\n",
    "    'Age': [44, 27, 30, 38, 40, 35, 78, 48, 50, 37],\n",
    "    'Salary': [72000, 48000, 54000, 61000, 1000, 58000, 52000, 79000, 83000, 67000]\n",
    "}\n",
    "\n",
    "df = pd.DataFrame(data)\n",
    "\n",
    "df_MinMaxScale = MinMaxScaler().fit_transform(df)\n",
    "print(df_MinMaxScale)\n",
    "df_Robust = RobustScaler().fit_transform(df)\n",
    "print(df_Robust)"
   ]
  },
  {
   "cell_type": "code",
   "execution_count": 34,
   "metadata": {},
   "outputs": [],
   "source": [
    "iris = pd.read_csv('Iris.csv')"
   ]
  },
  {
   "cell_type": "code",
   "execution_count": 38,
   "metadata": {},
   "outputs": [
    {
     "data": {
      "text/plain": [
       "array([0, 1, 2], dtype=int64)"
      ]
     },
     "execution_count": 38,
     "metadata": {},
     "output_type": "execute_result"
    }
   ],
   "source": [
    "iris['Species'] = LabelEncoder().fit_transform(iris['Species'])\n",
    "iris['Species'].unique()"
   ]
  }
 ],
 "metadata": {
  "kernelspec": {
   "display_name": "aio2024_env",
   "language": "python",
   "name": "python3"
  },
  "language_info": {
   "codemirror_mode": {
    "name": "ipython",
    "version": 3
   },
   "file_extension": ".py",
   "mimetype": "text/x-python",
   "name": "python",
   "nbconvert_exporter": "python",
   "pygments_lexer": "ipython3",
   "version": "3.10.14"
  }
 },
 "nbformat": 4,
 "nbformat_minor": 2
}
